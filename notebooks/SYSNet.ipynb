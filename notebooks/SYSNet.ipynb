{
 "cells": [
  {
   "cell_type": "markdown",
   "metadata": {},
   "source": [
    "# SYSNet"
   ]
  },
  {
   "cell_type": "markdown",
   "metadata": {},
   "source": [
    "## Installation\n",
    "We recommend Anaconda distribution for python. We describe how you can set up a deep learning, data science environment that you can analyze cosmological datasets. We conda to install packages, and recommend you to use conda over pip.\n",
    "\n",
    "### Conda\n",
    "First, you should check whether or not you have Conda installed on your system. If not, please follow the instructions below to install `conda`:<br/> \n",
    "1. Visit https://docs.conda.io/projects/conda/en/latest/index.html <br/>(or https://docs.conda.io/en/latest/miniconda.html#linux-installers for linux) <br/>\n",
    "\n",
    "On Linux, we would execute the following commands:<br/>\n",
    "2. `$> wget https://repo.anaconda.com/miniconda/Miniconda3-latest-Linux-x86_64.sh` <br/>\n",
    "3. `$> sha256sum Miniconda3-latest-Linux-x86_64.sh` <br/>\n",
    "\n"
   ]
  },
  {
   "cell_type": "markdown",
   "metadata": {},
   "source": [
    "### Pytorch\n",
    "Only for **Ohio State Cluster (OSC)**: <br/>\n",
    "```\n",
    "$> module spider cuda # on OSC\n",
    "$> module load cuda/10.1.168 # on OSC\n",
    "```\n",
    "For all other devices\n",
    "```\n",
    "$> conda create -n sysnet python=3.8 scikit-learn\n",
    "$> conda activate sysnet\n",
    "```\n",
    "\n",
    "Once your environment is activated, go to Pytorch website (see pytorch.org), and find the appropriate installation command. For instance\n",
    "```\n",
    "$> conda install pytorch torchvision -c pytorch\n",
    "```\n",
    "Or for the OSC (see https://www.osc.edu/resources/available_software/software_list/cuda <br/>\n",
    "& https://www.osc.edu/supercomputing/batch-processing-at-osc/monitoring-and-managing-your-job):\n",
    "```\n",
    "$> conda install pytorch torchvision cudatoolkit=10.1 -c pytorch # on OSC\n",
    "```\n",
    "\n",
    "After installation of `Pytorch`, execute the following commands:\n",
    "```\n",
    "$> conda install git\n",
    "$> conda install -c conda-forge fitsio healpy\n",
    "$> conda install jupyter ipykernel ipython mpi4py\n",
    "$> conda install -c conda-forge absl-py pytables\n",
    "```\n",
    "Use the following command to add your env kernel to Jupyter:\n",
    "```\n",
    "$> python -m ipykernel install --user --name=sysnet --display-name \"python (sysnet)\"\n",
    "```"
   ]
  },
  {
   "cell_type": "markdown",
   "metadata": {},
   "source": [
    "### Clone the Git repository of SYSNet\n",
    "Go to a directory (e.g. 'test' under the home directory):\n",
    "```\n",
    "$> cd $HOME\n",
    "$> mkdir test\n",
    "$> cd test\n",
    "$> git clone https://github.com/mehdirezaie/sysnetdev.git\n",
    "```\n",
    "After cloning, go to the root directory of the sysnet software: <br/>\n",
    "```\n",
    "$> cd sysnetdev\n",
    "$> git pull origin master\n",
    "````\n",
    "Add the path to SYSNET (or sysnetdev directory) to the python PYTHONPATH variable:<br/>\n",
    "```\n",
    "$> export PYTHONPATH=/Users/mehdi/test/sysnetdev:${PYTHONPATH}\n",
    "```\n",
    "Then, go to the scripts directory, and execute:<br/>\n",
    "```\n",
    "$> cd scripts\n",
    "$> python app.py -ax {0..17}\n",
    "```\n",
    "This will train the network for one epoch. Use `python app.py --help` to seek help for the full command line interface."
   ]
  },
  {
   "cell_type": "markdown",
   "metadata": {},
   "source": [
    "## Data Pre-processing"
   ]
  },
  {
   "cell_type": "code",
   "execution_count": null,
   "metadata": {},
   "outputs": [],
   "source": []
  },
  {
   "cell_type": "code",
   "execution_count": null,
   "metadata": {},
   "outputs": [],
   "source": []
  },
  {
   "cell_type": "code",
   "execution_count": null,
   "metadata": {},
   "outputs": [],
   "source": []
  },
  {
   "cell_type": "code",
   "execution_count": null,
   "metadata": {},
   "outputs": [],
   "source": []
  },
  {
   "cell_type": "markdown",
   "metadata": {},
   "source": []
  }
 ],
 "metadata": {
  "kernelspec": {
   "display_name": "python (sysnet)",
   "language": "python",
   "name": "sysnet"
  },
  "language_info": {
   "codemirror_mode": {
    "name": "ipython",
    "version": 3
   },
   "file_extension": ".py",
   "mimetype": "text/x-python",
   "name": "python",
   "nbconvert_exporter": "python",
   "pygments_lexer": "ipython3",
   "version": "3.8.2-final"
  }
 },
 "nbformat": 4,
 "nbformat_minor": 4
}