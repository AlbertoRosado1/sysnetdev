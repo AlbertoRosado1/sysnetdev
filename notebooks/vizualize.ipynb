{
 "cells": [
  {
   "cell_type": "code",
   "execution_count": null,
   "metadata": {},
   "outputs": [],
   "source": [
    "import matplotlib.pyplot as plt\n",
    "\n",
    "import json\n",
    "import numpy as np\n",
    "import fitsio as ft\n",
    "import healpy as hp\n",
    "import pandas as pd\n",
    "import sys\n",
    "\n",
    "sys.path.insert(0, '/home/mehdi/github/LSSutils')\n",
    "from LSSutils.catalogs.combinefits import EbossCatalog\n",
    "from LSSutils.lab import get_cl, MeanDensity, make_overdensity\n",
    "%matplotlib inline"
   ]
  },
  {
   "cell_type": "code",
   "execution_count": null,
   "metadata": {},
   "outputs": [],
   "source": [
    "from scipy.stats import pearsonr"
   ]
  },
  {
   "cell_type": "code",
   "execution_count": null,
   "metadata": {},
   "outputs": [],
   "source": [
    "from LSSutils.utils import EbossCat"
   ]
  },
  {
   "cell_type": "code",
   "execution_count": null,
   "metadata": {},
   "outputs": [],
   "source": [
    "# read the NN N_models\n",
    "nmodel_0 = hp.read_map('../output/eboss_ngal_ngc_all_pnll_kfold.hp512.fits', verbose=False)\n",
    "nmodel_1 = hp.read_map('../output/eboss_ngal_ngc_all_pnll_kfold_seed85.hp512.fits', verbose=False)\n",
    "nmodel_2 = hp.read_map('../output/eboss_ngal_nranexp_ngc_all_pnll_kfold.hp512.fits', verbose=False)\n",
    "nmodel_3 = hp.read_map('../output/eboss_ngal_ngc_all_pnll_kfold_seed1to6.hp512.fits', verbose=False)\n",
    "nmodel_4 = hp.read_map('../output/eboss_ngal_ngc_all_pnll_kfold_seed42.hp512.fits', verbose=False)\n",
    "nmodel_5 = hp.read_map('../output/eboss_ngal_ngc_all_pnll_kfold_seed2020.hp512.fits', verbose=False)\n",
    "nmodel_6 = hp.read_map('../output/eboss_ngal_ngc_all_plain_pnll_kfold_seed42.hp512.fits', verbose=False)"
   ]
  },
  {
   "cell_type": "code",
   "execution_count": null,
   "metadata": {},
   "outputs": [],
   "source": [
    "good = np.isfinite(nmodel_0)\n",
    "nmodel_0[good], nmodel_4[good]"
   ]
  },
  {
   "cell_type": "code",
   "execution_count": null,
   "metadata": {
    "scrolled": false
   },
   "outputs": [],
   "source": [
    "# test changing fpix and seed\n",
    "from scipy.stats import pearsonr, spearmanr\n",
    "\n",
    "plt.scatter(nmodel_0[good], nmodel_1[good], 1, label='different seed, same fpix', alpha=0.5)\n",
    "plt.scatter(nmodel_0[good], nmodel_2[good], 1, label='same seed, different fpix', alpha=0.5)\n",
    "plt.scatter(nmodel_0[good], nmodel_3[good], 1, label='different seed, same fpix', alpha=0.5, color='r')\n",
    "plt.scatter(nmodel_0[good], nmodel_5[good], 1, label='different seed, same fpix', alpha=0.5)\n",
    "\n",
    "plt.plot([0.2, 1.5], [0.2, 1.5], ls='--', color='b', label='y=x')\n",
    "plt.plot([0.2, 1.5], [0.2, 1.58*1.5], ls='--', color='orange', label='y=1.58x')\n",
    "\n",
    "plt.annotate(f'{pearsonr(nmodel_0[good], nmodel_2[good])[0]:.2f}', \n",
    "             (0.9, 0.82), xycoords='axes fraction', color='orange')\n",
    "plt.annotate(f'{pearsonr(nmodel_0[good], nmodel_1[good])[0]:.2f}', \n",
    "             (0.9, 0.62), xycoords='axes fraction', color='blue')\n",
    "\n",
    "plt.legend(markerscale=5)\n",
    "plt.xlabel('Nmodel1')\n",
    "plt.ylabel('Nmodel2')"
   ]
  },
  {
   "cell_type": "code",
   "execution_count": null,
   "metadata": {},
   "outputs": [],
   "source": [
    "# test changing fpix and seed\n",
    "\n",
    "# plt.scatter(nmodel_1[good], nmodel_2[good], 1, label='different seed, same fpix', alpha=0.5)\n",
    "plt.scatter(nmodel_3[good], nmodel_1[good], 1, label='same seed, different fpix', alpha=0.5)\n",
    "plt.scatter(nmodel_3[good], nmodel_4[good], 1, label='different seed, same fpix', alpha=0.5)\n",
    "plt.scatter(nmodel_3[good], nmodel_5[good], 1, label='different seed, same fpix', alpha=0.5)\n",
    "\n",
    "plt.plot([0.2, 1.5], [0.2, 1.5], ls='--', color='b', label='y=x')\n",
    "# plt.plot([0.2, 1.5], [0.2, 1.58*1.5], ls='--', color='orange', label='y=1.58x')\n",
    "\n",
    "plt.legend(markerscale=5)\n",
    "plt.xlabel('Nmodel1')\n",
    "plt.ylabel('Nmodel2')\n"
   ]
  },
  {
   "cell_type": "code",
   "execution_count": null,
   "metadata": {},
   "outputs": [],
   "source": [
    "# print the correlation coef.\n",
    "nmodels = [nmodel_0, nmodel_1, nmodel_2, nmodel_3, nmodel_4, nmodel_5]\n",
    "for i in range(6):\n",
    "    for j in range(i+1, 6):\n",
    "        print(i, j, pearsonr(nmodels[i][good], nmodels[j][good])[0])\n",
    "        \n",
    "for i in range(6):\n",
    "    print(i, np.std(nmodels[i][good]))"
   ]
  },
  {
   "cell_type": "code",
   "execution_count": null,
   "metadata": {},
   "outputs": [],
   "source": [
    "# test angular clustering\n",
    "\n",
    "# read data and randoms\n",
    "data = EbossCatalog('../input/eBOSS_QSO_full_NGC_v7_2.dat.fits', kind='galaxy', zmin=0.8, zmax=2.2)\n",
    "randoms = EbossCatalog('../input/eBOSS_QSO_full_NGC_v7_2.ran.fits', kind='random', zmin=0.8, zmax=2.2)\n",
    "\n",
    "# to HEALPix\n",
    "nobs_raw = data.tohp(512, 0.8, 2.2, raw=0)\n",
    "nobs_w = data.tohp(512, 0.8, 2.2, raw=1)\n",
    "nran_w = randoms.tohp(512, 0.8, 2.2, raw=1)\n",
    "\n",
    "# fpix map\n",
    "fpix = np.zeros_like(nran_w)\n",
    "nran_mean = nran_w[nran_w>0].mean()\n",
    "# nran_mean = 5000.*hp.nside2pixarea(512, degrees=True)\n",
    "fpix[nran_w>0] = nran_w[nran_w>0] / nran_mean\n",
    "print(f'nran_mean: {nran_mean}')\n",
    "\n",
    "# weight map\n",
    "weight = np.zeros_like(nobs_raw)\n",
    "weight[nobs_raw>0] = nobs_w[nobs_raw>0]/nobs_raw[nobs_raw>0]\n",
    "weight[nobs_raw==0] = 1.0 "
   ]
  },
  {
   "cell_type": "code",
   "execution_count": null,
   "metadata": {},
   "outputs": [],
   "source": [
    "def normalize(nnmodel, nobsw, good):\n",
    "    # normalize systematic weights such that N_{qso,tot} stays the same \n",
    "    norm = (nobsw[good]/nnmodel[good]).sum()/nobsw[good].sum()\n",
    "    return norm*nnmodel\n",
    "\n",
    "nmodel_0s = normalize(nmodel_0, nobs_w, good)\n",
    "nmodel_1s = normalize(nmodel_1, nobs_w, good)\n",
    "nmodel_2s = normalize(nmodel_2, nobs_w, good)\n",
    "nmodel_3s = normalize(nmodel_3, nobs_w, good)\n",
    "nmodel_4s = normalize(nmodel_4, nobs_w, good)\n",
    "nmodel_5s = normalize(nmodel_5, nobs_w, good)\n",
    "nmodel_6s = normalize(nmodel_6, nobs_w, good)"
   ]
  },
  {
   "cell_type": "code",
   "execution_count": null,
   "metadata": {},
   "outputs": [],
   "source": [
    "print('N_{qso,tot}: %.1f %.1f'%(nobs_w[good].sum(), \n",
    "                               (nobs_w[good]/nmodel_0s[good]).sum()))"
   ]
  },
  {
   "cell_type": "code",
   "execution_count": null,
   "metadata": {},
   "outputs": [],
   "source": [
    "_,b,_ = plt.hist(nobs_raw[good], bins=30, label=r'N$_{qso, {\\rm raw}}$')\n",
    "_=plt.hist(nmodel_0s[good], bins=b, alpha=0.8, label=r'$\\lambda$')\n",
    "plt.legend(fontsize=15)"
   ]
  },
  {
   "cell_type": "code",
   "execution_count": null,
   "metadata": {},
   "outputs": [],
   "source": [
    "np.percentile(1/nmodel_0s[good], [0, 100])"
   ]
  },
  {
   "cell_type": "code",
   "execution_count": null,
   "metadata": {},
   "outputs": [],
   "source": [
    "plt.hist(1/nmodel_0[good], alpha=0.8, bins=50,\n",
    "        range=(0.5, 2.2), label=r'$N^{-1}_{\\rm model}$')\n",
    "_=plt.hist(1/nmodel_0s[good], alpha=0.8, bins=50, \n",
    "           range=(0.5, 2.2), label=r'$(\\beta N_{\\rm model})^{-1}$')\n",
    "plt.legend()"
   ]
  },
  {
   "cell_type": "code",
   "execution_count": null,
   "metadata": {},
   "outputs": [],
   "source": [
    "def plot_nobs_nmodel(nmodel, nobs, ax, xlabel, ylabel, \n",
    "                     xlim=(-0.5, 2), ylim=(-1, 8), add_line=True, color='r', label='Nmodel'):\n",
    "    y0_, x_, _ = binned_statistic(nmodel, nmodel, statistic='mean', bins=6)\n",
    "    y1_, x_, _ = binned_statistic(nmodel, nobs, statistic='mean', bins=x_)\n",
    "    y2_, x_, _ = binned_statistic(nmodel, nobs, statistic=np.std, bins=x_)\n",
    "    n2_, x_, _ = binned_statistic(nmodel, np.ones_like(nobs), statistic='sum', bins=x_)\n",
    "    x_c = 0.5*(x_[1:]+x_[:-1])\n",
    "\n",
    "    ax.scatter(nmodel, nobs, 1, marker='.', color=color, zorder=-1, alpha=0.1)\n",
    "        \n",
    "    ax.errorbar(y0_, y1_, yerr=y2_/np.sqrt(n2_), color=color, \n",
    "                ls='none', capsize=2, label=label, marker='o')\n",
    "    ax.errorbar(y0_, y1_, yerr=y2_, color=color, \n",
    "                ls='none', capsize=2, alpha=0.5)\n",
    "\n",
    "    #ax.set(xlabel=xlabel, ylabel=ylabel, xlim=xlim, ylim=ylim)\n",
    "    return ax"
   ]
  },
  {
   "cell_type": "code",
   "execution_count": null,
   "metadata": {},
   "outputs": [],
   "source": [
    "from scipy.stats import binned_statistic"
   ]
  },
  {
   "cell_type": "code",
   "execution_count": null,
   "metadata": {},
   "outputs": [],
   "source": [
    "fig, ax = plt.subplots(figsize=(8, 5))\n",
    "\n",
    "ax.plot([0.2, 1.5], [0.2, 1.5], ls='--', color='b', label='y=x')\n",
    "ax.plot([0.2, 1.5], [0.2, 1.58*1.5], ls='--', color='orange', label='y=1.58x')\n",
    "\n",
    "ax = plot_nobs_nmodel(nmodel_0[good], nmodel_1[good], ax, '', '',\n",
    "                      color='b', label='different seed, same fpix')\n",
    "ax = plot_nobs_nmodel(nmodel_0[good], nmodel_2[good], ax, 'modeli', 'modelj',\n",
    "                      color='orange', label='same seed, different fpix')\n",
    "ax = plot_nobs_nmodel(nmodel_0[good], nmodel_3[good], ax, '', '',\n",
    "                      color='r', label='different seed, same fpix')\n",
    "\n",
    "ax = plot_nobs_nmodel(nmodel_0[good], nmodel_5[good], ax, '', '',\n",
    "                      color='g', label='different seed, same fpix')\n",
    "\n",
    "ax.legend(title='X=')"
   ]
  },
  {
   "cell_type": "code",
   "execution_count": null,
   "metadata": {},
   "outputs": [],
   "source": [
    "fig, ax = plt.subplots(figsize=(8, 5))\n",
    "\n",
    "ax.plot([0.2, 1.5], [0.2, 1.5], ls='--', color='b', label='y=x')\n",
    "# ax.plot([0.2, 1.5], [0.2, 1.58*1.5], ls='--', color='orange', label='y=1.58x')\n",
    "\n",
    "ax = plot_nobs_nmodel(nmodel_1[good], nmodel_3[good], ax, '', '',\n",
    "                      color='b', label='different seed, same fpix')\n",
    "# ax = plot_nobs_nmodel(nmodel_2[good], nmodel_0[good], ax, 'modeli', 'modelj',\n",
    "#                       color='orange', label='same seed, different fpix')\n",
    "# ax = plot_nobs_nmodel(nmodel_3[good], nmodel_0[good], ax, '', '',\n",
    "#                       color='r', label='different seed, same fpix')\n",
    "ax = plot_nobs_nmodel(nmodel_5[good], nmodel_1[good], ax, '', '',\n",
    "                      color='g', label='different seed, same fpix')\n",
    "\n",
    "ax.legend()"
   ]
  },
  {
   "cell_type": "code",
   "execution_count": null,
   "metadata": {},
   "outputs": [],
   "source": [
    "nnchains = ft.read('/home/mehdi/data/eboss/data/v7_2/0.7/pnll_nranexp/nn-weights-fold0.fits')"
   ]
  },
  {
   "cell_type": "code",
   "execution_count": null,
   "metadata": {},
   "outputs": [],
   "source": [
    "nnchains"
   ]
  },
  {
   "cell_type": "code",
   "execution_count": null,
   "metadata": {},
   "outputs": [],
   "source": [
    "set1 = nnchains['weight'][:, :10]\n",
    "set2 = nnchains['weight'][:, 10:]\n",
    "set1mean  = np.mean(set1, 1)\n",
    "set2mean  = np.mean(set2, 1)\n",
    "set1median  = np.median(set1, 1)\n",
    "set2median  = np.median(set2, 1)"
   ]
  },
  {
   "cell_type": "code",
   "execution_count": null,
   "metadata": {},
   "outputs": [],
   "source": [
    "fig, ax = plt.subplots(figsize=(8, 5))\n",
    "\n",
    "ax.plot([0.5, 1.9], [0.5, 1.9], ls='--', color='b', label='y=x')\n",
    "# ax.plot([0.2, 1.5], [0.2, 1.58*1.5], ls='--', color='orange', label='y=1.58x')\n",
    "\n",
    "ax = plot_nobs_nmodel(set1mean, set2mean, ax, '', '',\n",
    "                      color='b', label='mean over 10 chains')\n",
    "\n",
    "# ax = plot_nobs_nmodel(set1median, set2median, ax, '', '',\n",
    "#                       color='r', label='median over 10 chains')\n",
    "\n",
    "ax = plot_nobs_nmodel(set1[:, 0], set2[:, 1], ax, '', '',\n",
    "                      color='orange', label='one chain')\n",
    "ax.legend()"
   ]
  },
  {
   "cell_type": "code",
   "execution_count": null,
   "metadata": {},
   "outputs": [],
   "source": [
    "pearsonr(set1[:, 0], set2[:, 1]), pearsonr(set1mean, set2mean)"
   ]
  },
  {
   "cell_type": "code",
   "execution_count": null,
   "metadata": {},
   "outputs": [],
   "source": []
  },
  {
   "cell_type": "code",
   "execution_count": null,
   "metadata": {},
   "outputs": [],
   "source": []
  },
  {
   "cell_type": "code",
   "execution_count": null,
   "metadata": {},
   "outputs": [],
   "source": [
    "nmodel_3s = hp.read_map('/home/mehdi/data/eboss/data/v7_2/0.3/results/NGC_all_512/regression/nn_known/nn-weights.hp512.fits', verbose=False)"
   ]
  },
  {
   "cell_type": "code",
   "execution_count": null,
   "metadata": {},
   "outputs": [],
   "source": [
    "templates = pd.read_hdf('../input/SDSS_WISE_HI_imageprop_nside512.h5', key='templates')"
   ]
  },
  {
   "cell_type": "code",
   "execution_count": null,
   "metadata": {},
   "outputs": [],
   "source": [
    "systematics = templates[['star_density', 'ebv']].values\n",
    "systematics.shape"
   ]
  },
  {
   "cell_type": "code",
   "execution_count": null,
   "metadata": {},
   "outputs": [],
   "source": [
    "for i in range(2):\n",
    "    print(good.sum())\n",
    "    good &= np.isfinite(systematics[:, i])    "
   ]
  },
  {
   "cell_type": "code",
   "execution_count": null,
   "metadata": {},
   "outputs": [],
   "source": [
    "from time import time"
   ]
  },
  {
   "cell_type": "code",
   "execution_count": null,
   "metadata": {},
   "outputs": [],
   "source": [
    "cells = {}\n",
    "\n",
    "for slf, ni in zip([None, nmodel_0s, nmodel_1s, nmodel_2s, nmodel_3s, nmodel_6s],\n",
    "                    ['before', 'after0', 'after1', 'after2', 'default', 'after.plain']):\n",
    "    t0 = time()\n",
    "    cells[ni] = get_cl(nobs_w, nran_w, good, systematics=systematics, selection_fn=slf, njack=0)\n",
    "    print('\\n', ni, time()-t0)"
   ]
  },
  {
   "cell_type": "code",
   "execution_count": null,
   "metadata": {},
   "outputs": [],
   "source": [
    "from LSSutils.utils import histogram_cell"
   ]
  },
  {
   "cell_type": "code",
   "execution_count": null,
   "metadata": {},
   "outputs": [],
   "source": [
    "def add_cl(ax, cli, shade, **kw):\n",
    "    for i in range(2):        \n",
    "        lb, clb_sg = histogram(cli['cl_gg']['l'], cli['cl_sg'][i]['cl'])\n",
    "        lb, clb_ss = histogram(cli['cl_gg']['l'], cli['cl_ss'][i]['cl'])\n",
    "        \n",
    "        clb = clb_sg*clb_sg / clb_ss\n",
    "        \n",
    "        ax[i].plot(lb, clb, marker='.', ms=10, **kw)\n",
    "        if shade:\n",
    "            lb, clb_e = histogram_jac(cli['cl_gg']['l'], cli['cl_gg'][i]['cl'])\n",
    "            ax[i].fill_between(lb, 0, clb_e, color='grey', alpha=0.1, zorder=-1, label=r'$\\sigma C_{g,g}$')\n",
    "\n",
    "    return ax\n",
    "\n",
    "\n",
    "fig, ax = plt.subplots(ncols=2, figsize=(12, 4), sharey=True)\n",
    "fig.subplots_adjust(wspace=0)\n",
    "\n",
    "add_cl(ax, cells['before'], True, color='grey', label='before')\n",
    "\n",
    "colors = ['k', 'r', 'b', 'orange']\n",
    "i = 0\n",
    "for name in ['after0', 'after1', 'after2', 'default']:\n",
    "    print(name)\n",
    "    ax = add_cl(ax, cells[name], False, color=colors[i], label=name)\n",
    "    i += 1\n",
    "\n",
    "ax[1].legend()\n",
    "for axi in ax:\n",
    "    axi.set(xscale='log',  xlabel=r'$\\ell$', \n",
    "            yscale='log', ylim=(1.0e-12, 1.0e-3)) #\n",
    "    axi.grid(True, ls=':', alpha=0.4)\n",
    "ax[0].set_ylabel(r'$C^{2}_{\\ell,s,g}/C_{s,s}$', fontsize=15)# \n",
    "fig.savefig('cell_eboss.png', dpi=300, bbox_inches='tight')"
   ]
  },
  {
   "cell_type": "code",
   "execution_count": null,
   "metadata": {},
   "outputs": [],
   "source": [
    "y_ = ft.read('/home/mehdi/data/eboss/data/v7_2/0.6/eboss_ngal_ngc_all_512.fits')\n",
    "ebv = np.zeros_like(nobs_w)\n",
    "ebv[y_['hpind']] = y_['features'][:, 2]"
   ]
  },
  {
   "cell_type": "code",
   "execution_count": null,
   "metadata": {},
   "outputs": [],
   "source": [
    "nbars = {}\n",
    "\n",
    "for slf, ni in zip([None, nmodel_0s, nmodel_1s, nmodel_2s, nmodel_3s, nmodel_6s],\n",
    "                    ['before', 'after0', 'after1', 'after2', 'default', 'after.plain']):\n",
    "    nbar_i = MeanDensity(nobs_w/fpix, np.ones_like(good), good, np.log10(ebv), selection=slf)\n",
    "    nbar_i.run()\n",
    "    nbars[ni] = nbar_i.output"
   ]
  },
  {
   "cell_type": "code",
   "execution_count": null,
   "metadata": {},
   "outputs": [],
   "source": [
    "chi2 = lambda y, y_, ye:(((y-y_)/ye)**2).sum()\n",
    "\n",
    "fig, ax = plt.subplots(ncols=2, figsize=(12, 4))\n",
    "\n",
    "mk = ['o', 's', 'x', '+', '*', '^']\n",
    "cl = ['grey', 'k', 'r', 'b', 'orange', 'g']\n",
    "i = 0\n",
    "for ni, nli in nbars.items():\n",
    "    \n",
    "    ax[0].plot(nli['bin_avg'], nli['nnbar'], label=ni, marker=mk[i], color=cl[i])\n",
    "    ax[0].text(0.1, 0.1+i*0.1, f\"{ni}, {chi2(1, nli['nnbar'], nli['nnbar_err']):.1f}\",\n",
    "              transform=ax[0].transAxes, color=cl[i])\n",
    "    i += 1\n",
    "    \n",
    "ax[0].set(xlabel=r'$\\log$(EBV)', ylabel='N/Nbar')\n",
    "\n",
    "# i = 0\n",
    "# for ni, cli in cells.items():\n",
    "    \n",
    "#     lb, clb = histogram_cell(cli['cl_gg']['cl'])\n",
    "#     ax[1].loglog(lb, clb, label=ni, marker=mk[i], color=cl[i])\n",
    "#     i += 1 \n",
    "\n",
    "# ax[1].legend()\n",
    "# ax[1].set(ylim=(1.0e-6, 3.0e-4), ylabel=(r'C$_{\\ell}$'), xlabel=r'$\\ell$')\n",
    "for axi in ax:\n",
    "    axi.grid(True, ls=':', alpha=0.6)\n",
    "fig.savefig('eboss_ngc_all_ratio.png', bbox_inches='tight', dpi=300)"
   ]
  },
  {
   "cell_type": "code",
   "execution_count": null,
   "metadata": {},
   "outputs": [],
   "source": [
    "nnbar_ngc = np.load('/home/mehdi/data/eboss/data/v7_2/0.3/old/clustering/nnbar_0.3_NGC_known_allhigh_all.npy', allow_pickle=True)"
   ]
  },
  {
   "cell_type": "code",
   "execution_count": null,
   "metadata": {},
   "outputs": [],
   "source": [
    "nnbar_ngc[2]"
   ]
  },
  {
   "cell_type": "code",
   "execution_count": null,
   "metadata": {},
   "outputs": [],
   "source": [
    "for nni in [nbar_d, nnbar_ngc[2]"
   ]
  },
  {
   "cell_type": "code",
   "execution_count": null,
   "metadata": {},
   "outputs": [],
   "source": [
    "for dli, ni in zip([delta_before, delta_default, delta_after],\n",
    "                   ['before', 'default (MSE)', 'Poisson']):\n",
    "    plt.hist(dli[good], range=(-2, 10), bins=50, label=ni, alpha=0.5)\n",
    "    print(np.percentile(dli[good], [0, 100]), (dli[good]*fpix[good]).mean())\n",
    "plt.legend()\n",
    "plt.xlim(-1.1, 10.)\n",
    "plt.yscale('log')\n",
    "plt.xlabel(r'$\\delta_{qso, X}$')"
   ]
  },
  {
   "cell_type": "code",
   "execution_count": null,
   "metadata": {},
   "outputs": [],
   "source": []
  },
  {
   "cell_type": "code",
   "execution_count": null,
   "metadata": {},
   "outputs": [],
   "source": []
  },
  {
   "cell_type": "code",
   "execution_count": null,
   "metadata": {},
   "outputs": [],
   "source": []
  },
  {
   "cell_type": "code",
   "execution_count": null,
   "metadata": {},
   "outputs": [],
   "source": []
  },
  {
   "cell_type": "code",
   "execution_count": null,
   "metadata": {},
   "outputs": [],
   "source": [
    "plt.hisw_sys1[good]"
   ]
  },
  {
   "cell_type": "code",
   "execution_count": null,
   "metadata": {},
   "outputs": [],
   "source": [
    "data['WEIGHT_SYSTOT'].mean()"
   ]
  },
  {
   "cell_type": "code",
   "execution_count": null,
   "metadata": {},
   "outputs": [],
   "source": []
  },
  {
   "cell_type": "code",
   "execution_count": null,
   "metadata": {},
   "outputs": [],
   "source": [
    "np.mean(w_sys1[good])"
   ]
  },
  {
   "cell_type": "code",
   "execution_count": null,
   "metadata": {},
   "outputs": [],
   "source": [
    "lambda_nn[good].min()"
   ]
  },
  {
   "cell_type": "code",
   "execution_count": null,
   "metadata": {},
   "outputs": [],
   "source": [
    "np.min(lambda_nn_['pred'])"
   ]
  },
  {
   "cell_type": "code",
   "execution_count": null,
   "metadata": {},
   "outputs": [],
   "source": [
    "from LSSutils.lab import overdensity"
   ]
  },
  {
   "cell_type": "code",
   "execution_count": null,
   "metadata": {},
   "outputs": [],
   "source": [
    "delta_nn = np.zeros_like(nn_model)\n",
    "delta_nn[good] = (nobs_raw[good]/fpix[good]*weight[good])/nn_model[good] - 1\n",
    "\n",
    "delta_nnb = np.zeros_like(nn_model)\n",
    "delta_nnb[good] = (nobs_raw[good]/fpix[good]*weight[good])/(beta*nn_model[good]) - 1\n",
    "\n",
    "delta_nnnb = np.zeros_like(nn_model)\n",
    "delta_nnnb[good] = (nobs_raw[good]/fpix[good]*weight[good])/(nbar*nn_model[good]) - 1"
   ]
  },
  {
   "cell_type": "code",
   "execution_count": null,
   "metadata": {},
   "outputs": [],
   "source": [
    "%matplotlib inline"
   ]
  },
  {
   "cell_type": "code",
   "execution_count": null,
   "metadata": {},
   "outputs": [],
   "source": [
    "nn_model[good].mean(), nobs_w[good].mean(), nobs_raw[good].mean(), (nn_model[good]*beta).mean()"
   ]
  },
  {
   "cell_type": "code",
   "execution_count": null,
   "metadata": {},
   "outputs": [],
   "source": []
  },
  {
   "cell_type": "code",
   "execution_count": null,
   "metadata": {},
   "outputs": [],
   "source": []
  },
  {
   "cell_type": "code",
   "execution_count": null,
   "metadata": {},
   "outputs": [],
   "source": [
    "good_w_mask = good & (nn_model>0.5) & (nn_model<2.0)\n",
    "good.sum(), good_w_mask.sum()"
   ]
  },
  {
   "cell_type": "code",
   "execution_count": null,
   "metadata": {},
   "outputs": [],
   "source": [
    "_,b,_=plt.hist(delta_nn[good], bins=30)\n",
    "# plt.hist(delta_nn[good_w_mask], bins=b, label='0.5<Nmodel<2.0', alpha=0.5)\n",
    "plt.yscale('log')\n",
    "plt.xlabel(r'\\delta')"
   ]
  },
  {
   "cell_type": "code",
   "execution_count": null,
   "metadata": {},
   "outputs": [],
   "source": [
    "for di in [delta_nn, delta_nnb, delta_nnnb]:\n",
    "    print(di[good].mean(), di[good_w_mask].mean())"
   ]
  },
  {
   "cell_type": "code",
   "execution_count": null,
   "metadata": {},
   "outputs": [],
   "source": []
  },
  {
   "cell_type": "code",
   "execution_count": null,
   "metadata": {},
   "outputs": [],
   "source": []
  },
  {
   "cell_type": "code",
   "execution_count": null,
   "metadata": {},
   "outputs": [],
   "source": []
  },
  {
   "cell_type": "code",
   "execution_count": null,
   "metadata": {},
   "outputs": [],
   "source": []
  },
  {
   "cell_type": "code",
   "execution_count": null,
   "metadata": {},
   "outputs": [],
   "source": []
  },
  {
   "cell_type": "code",
   "execution_count": null,
   "metadata": {},
   "outputs": [],
   "source": []
  },
  {
   "cell_type": "code",
   "execution_count": null,
   "metadata": {},
   "outputs": [],
   "source": []
  },
  {
   "cell_type": "code",
   "execution_count": null,
   "metadata": {},
   "outputs": [],
   "source": []
  },
  {
   "cell_type": "code",
   "execution_count": null,
   "metadata": {},
   "outputs": [],
   "source": []
  },
  {
   "cell_type": "code",
   "execution_count": null,
   "metadata": {},
   "outputs": [],
   "source": []
  },
  {
   "cell_type": "markdown",
   "metadata": {},
   "source": [
    "$$\n",
    "    Cost = \\sum (Ngal_{\\rm obs, i} - Nmodel_{i} * fpix_{i}/weight_{i})^{2}\n",
    "$$"
   ]
  },
  {
   "cell_type": "code",
   "execution_count": null,
   "metadata": {},
   "outputs": [],
   "source": [
    "import pandas as pd\n",
    "import fitsio as ft\n",
    "import numpy as np\n",
    "import healpy as hp\n",
    "from time import time\n",
    "\n",
    "#import torch\n",
    "#from torch import nn\n",
    "\n",
    "from astropy.table import Table\n",
    "import logging\n",
    "import json\n",
    "\n",
    "import sys\n",
    "sys.path.insert(0, '/home/mehdi/github/LSSutils')\n",
    "#sys.path.append('/home/mehdi/github/sysnetdev')\n",
    "#from sysnet.sources import set_logger\n",
    "\n",
    "from scipy.stats import binned_statistic, lognorm\n",
    "\n",
    "%matplotlib inline\n",
    "import matplotlib.pyplot as plt"
   ]
  },
  {
   "cell_type": "code",
   "execution_count": null,
   "metadata": {},
   "outputs": [],
   "source": [
    "from LSSutils.catalogs.combinefits import EbossCatalog, HEALPixDataset\n",
    "from LSSutils.catalogs.datarelease import cols_eboss_mocks_qso"
   ]
  },
  {
   "cell_type": "code",
   "execution_count": null,
   "metadata": {},
   "outputs": [],
   "source": [
    "''' read nn outputs\n",
    "'''\n",
    "with open('../output/eboss_ngal_ngc_all_pnll_kfold.json', 'r') as file:\n",
    "    lambda_nn_ = json.load(file)\n",
    "    \n",
    "lambda_nn = np.zeros(12*512*512)\n",
    "lambda_nn[lambda_nn_['hpix']] = lambda_nn_['pred']\n",
    "    \n",
    "with open('../output/eboss_ngal_nranexp_ngc_all_pnll_kfold.json', 'r') as file:\n",
    "    lambda_nnran_ = json.load(file)\n",
    "lambda_nnran = np.zeros(12*512*512)\n",
    "lambda_nnran[lambda_nnran_['hpix']] = lambda_nnran_['pred']\n",
    "\n",
    "        \n",
    "# with open('../output/eboss_ngal_ngc_all_mse_kfold.json', 'r') as file:\n",
    "#     y_gau = json.load(file)    \n",
    "# assert np.array_equal(y_poi['hpix'], y_gau['hpix'])\n",
    "\n",
    "# np.array_equal(y_poi['hpix'], y_poi_nran['hpix'])"
   ]
  },
  {
   "cell_type": "code",
   "execution_count": null,
   "metadata": {},
   "outputs": [],
   "source": [
    "hpind = np.array(lambda_nn_['hpix'])\n",
    "pred = np.array(lambda_nn_['pred']).astype('float32')\n",
    "hpind, pred"
   ]
  },
  {
   "cell_type": "code",
   "execution_count": null,
   "metadata": {},
   "outputs": [],
   "source": [
    "np.zeros()"
   ]
  },
  {
   "cell_type": "code",
   "execution_count": null,
   "metadata": {},
   "outputs": [],
   "source": [
    "import healpy as hp"
   ]
  },
  {
   "cell_type": "code",
   "execution_count": null,
   "metadata": {},
   "outputs": [],
   "source": [
    "python app.py -ax 0 2 5 13 --model dnnp --loss pnll -i /home/mehdi/data/eboss/data/v7_2/0.6/eboss_ngal_nranexp_ngc_all_512.fits -o ../output/eboss_ngal_nranexp_ngc_all_pnll_kfold.pt -ne 300 -k"
   ]
  },
  {
   "cell_type": "code",
   "execution_count": null,
   "metadata": {},
   "outputs": [],
   "source": [
    "def tohp(nside, hpind, values):\n",
    "    zeros = np.empty(12*nside*nside, dtype=values.dtype)*np.nan\n",
    "    zeros[hpind] = values\n",
    "    return zeros"
   ]
  },
  {
   "cell_type": "code",
   "execution_count": null,
   "metadata": {},
   "outputs": [],
   "source": [
    "hppred = tohp(512, hpind, pred)"
   ]
  },
  {
   "cell_type": "code",
   "execution_count": null,
   "metadata": {},
   "outputs": [],
   "source": [
    "hppred[np.isfinite(hppred)]"
   ]
  },
  {
   "cell_type": "code",
   "execution_count": null,
   "metadata": {},
   "outputs": [],
   "source": [
    "# ngcall = ft.read('/home/mehdi/data/eboss/data/v7_2/0.6/eboss_ngal_ngc_all_512.fits')\n",
    "# ngcall_nranexp = ft.read('/home/mehdi/data/eboss/data/v7_2/0.7/eboss_ngal_nranexp_ngc_all_512.fits')"
   ]
  },
  {
   "cell_type": "code",
   "execution_count": null,
   "metadata": {},
   "outputs": [],
   "source": [
    "data = EbossCatalog('../input/eBOSS_QSO_full_NGC_v7_2.dat.fits', kind='galaxy', zmin=0.8, zmax=2.2)\n",
    "randoms = EbossCatalog('../input/eBOSS_QSO_full_NGC_v7_2.ran.fits', kind='random', zmin=0.8, zmax=2.2)"
   ]
  },
  {
   "cell_type": "code",
   "execution_count": null,
   "metadata": {},
   "outputs": [],
   "source": [
    "nobs_raw = data.tohp(512, 0.8, 2.2, raw=0)\n",
    "nobs_w = data.tohp(512, 0.8, 2.2, raw=1)\n",
    "nran_w = randoms.tohp(512, 0.8, 2.2, raw=1)\n",
    "\n",
    "df = np.load('/home/mehdi/data/eboss/data/v7_2/0.3/ngal_features_NGC_all_512.5r.npy', allow_pickle=True).item()\n",
    "df_all = np.concatenate([df['test']['fold%d'%d] for d in range(5)])\n",
    "\n",
    "mask_default = np.zeros_like(nobs_w, '?')\n",
    "mask_default[df_all['hpind']] = True\n",
    "frac_raw = nran_w / (nran_w[nran_w>0]).mean()\n",
    "\n",
    "nbar = nobs_w[mask_default].sum() / frac_raw[mask_default].sum()\n",
    "wsys_default = hp.read_map('/home/mehdi/data/eboss/data/v7_2/0.3/results/NGC_all_512/regression/nn_known/nn-weights.hp512.fits')"
   ]
  },
  {
   "cell_type": "code",
   "execution_count": null,
   "metadata": {},
   "outputs": [],
   "source": [
    "weight = nobs_w / nobs_raw\n",
    "weight[nobs_raw==0] = 1.0"
   ]
  },
  {
   "cell_type": "code",
   "execution_count": null,
   "metadata": {},
   "outputs": [],
   "source": [
    "nmodel_default_prime = nbar * frac_raw * wsys_default / weight # t ~ F^ Nobs x weight / (fpixNbar) ~ F^\n",
    "nmodel_poisson_prime = lambda_nn"
   ]
  },
  {
   "cell_type": "code",
   "execution_count": null,
   "metadata": {},
   "outputs": [],
   "source": [
    "def plot_nobs_nmodel(nobs, nmodel, ax, xlabel, ylabel, \n",
    "                     xlim=(-0.5, 2), ylim=(-1, 8), add_line=True, color='r', label='Nmodel'):\n",
    "    y0_, x_, _ = binned_statistic(nmodel, nmodel, statistic='mean')\n",
    "    y1_, x_, _ = binned_statistic(nmodel, nobs, statistic='mean', bins=x_)\n",
    "    y2_, x_, _ = binned_statistic(nmodel, nobs, statistic=np.std, bins=x_)\n",
    "    n2_, x_, _ = binned_statistic(nmodel, np.ones_like(nobs), statistic='sum', bins=x_)\n",
    "    x_c = 0.5*(x_[1:]+x_[:-1])\n",
    "\n",
    "\n",
    "    if add_line:        \n",
    "        ax.plot([-.5, 2.], [-0.5, 2.], 'k-')\n",
    "    ax.scatter(nmodel, nobs, 1, marker='.', color=color, zorder=-1)\n",
    "        \n",
    "    ax.errorbar(y0_, y1_, yerr=y2_/np.sqrt(n2_), color=color, \n",
    "                ls='none', capsize=2, label=label, marker='o')\n",
    "    ax.errorbar(y0_, y1_, yerr=y2_, color=color, \n",
    "                ls='none', capsize=2, alpha=0.5)\n",
    "\n",
    "    ax.set(xlabel=xlabel, ylabel=ylabel, xlim=xlim, ylim=ylim)\n",
    "    return ax"
   ]
  },
  {
   "cell_type": "code",
   "execution_count": null,
   "metadata": {},
   "outputs": [],
   "source": [
    "mask = lambda_nn_['hpix']"
   ]
  },
  {
   "cell_type": "code",
   "execution_count": null,
   "metadata": {},
   "outputs": [],
   "source": [
    "fig, ax = plt.subplots(figsize=(8, 5))\n",
    "\n",
    "ax = plot_nobs_nmodel(nobs_raw[mask], nmodel_poisson_prime[mask], ax, 'X', 'Nqso_obs',\n",
    "                      label='lambda', color='orange')\n",
    "ax = plot_nobs_nmodel(nobs_raw[mask], nmodel_default_prime[mask], ax, 'X', 'Nqso_obs',\n",
    "                      color='b', label='Nbar*(fpix/weight)*F^', add_line=True)\n",
    "ax.legend(title='X=')"
   ]
  },
  {
   "cell_type": "code",
   "execution_count": null,
   "metadata": {},
   "outputs": [],
   "source": [
    "weight[mask]"
   ]
  },
  {
   "cell_type": "code",
   "execution_count": null,
   "metadata": {},
   "outputs": [],
   "source": [
    "plt.scatter(lambda_nn[mask]*weight[mask], lambda_nnran[mask]*weight[mask], 1)\n",
    "plt.plot([-0.1, 2.], [-0.1, 2.], 'k--')\n",
    "plt.xlabel(\"weight*lambda [fpix w/ nranbar=41/sq deg]\")\n",
    "plt.ylabel(\"weight*lambda' [fpix w/ nranbar=65/sq deg]\")"
   ]
  },
  {
   "cell_type": "code",
   "execution_count": null,
   "metadata": {},
   "outputs": [],
   "source": []
  },
  {
   "cell_type": "code",
   "execution_count": null,
   "metadata": {},
   "outputs": [],
   "source": []
  },
  {
   "cell_type": "code",
   "execution_count": null,
   "metadata": {},
   "outputs": [],
   "source": []
  },
  {
   "cell_type": "code",
   "execution_count": null,
   "metadata": {},
   "outputs": [],
   "source": []
  },
  {
   "cell_type": "code",
   "execution_count": null,
   "metadata": {},
   "outputs": [],
   "source": [
    "def make_datasets():\n",
    "    \n",
    "    templates = pd.read_hdf('../input/SDSS_WISE_HI_imageprop_nside512.h5', key='templates')  \n",
    "    data = EbossCatalog('../input/eBOSS_QSO_full_NGC_v7_2.dat.fits', kind='galaxy', zmin=0.8, zmax=2.2)\n",
    "    randoms = EbossCatalog('../input/eBOSS_QSO_full_NGC_v7_2.ran.fits', kind='random', zmin=0.8, zmax=2.2)\n",
    "\n",
    "    for coli in cols_eboss_mocks_qso:\n",
    "        print(coli, end=', ')\n",
    "        \n",
    "    dataset = HEALPixDataset(data, randoms, templates, cols_eboss_mocks_qso)\n",
    "    # nnbarall = dataset.prepare(512, 0.8, 2.2, label='nnbar')\n",
    "    ngcall = dataset.prepare(512, 0.8, 2.2, label='ngal')\n",
    "    ngcall_nranexp = dataset.prepare(512, 0.8, 2.2, label='ngal', nran_exp=65.)\n",
    "    # only run once to save the data for regression\n",
    "    # ft.write('/home/mehdi/data/eboss/data/v7_2/0.6/eboss_ngal_ngc_all_512.fits', ngcall, clobber=True)\n",
    "    # ft.write('/home/mehdi/data/eboss/data/v7_2/0.7/eboss_ngal_nranexp_ngc_all_512.fits', ngcall_nranexp, clobber=True)\n",
    "    return 'done'\n",
    "\n",
    "def read_default():\n",
    "    #n_obs_raw = data.tohp(512, 0.8, 2.2, raw=1)\n",
    "    #n_ran_raw = randoms.tohp(512, 0.8, 2.2, raw=1)\n",
    "\n",
    "    df = np.load('/home/mehdi/data/eboss/data/v7_2/0.3/ngal_features_NGC_all_512.5r.npy', allow_pickle=True).item()\n",
    "    print(df.keys())\n",
    "\n",
    "    df_all = np.concatenate([df['test']['fold%d'%d] for d in range(5)])\n",
    "    #frac_raw = n_ran_raw / (n_ran_raw[n_ran_raw>0]).mean()\n",
    "    print(np.array_equal(frac_raw[df_all['hpind']], df_all['fracgood']))\n",
    "\n",
    "    delta_raw_default = np.zeros(12*512*512)\n",
    "\n",
    "    mask_default = np.zeros_like(delta_raw_default, '?')\n",
    "    mask_default[df_all['hpind']] = True\n",
    "\n",
    "    sf = n_obs_raw[mask_default].sum() / frac_raw[mask_default].sum()\n",
    "    delta_raw_default[mask_default] = n_obs_raw[mask_default]/(frac_raw[mask_default]*sf)\n",
    "\n",
    "    print(np.array_equal(delta_raw_default[df_all['hpind']], df_all['label']))\n",
    "    wsys_default = hp.read_map('/home/mehdi/data/eboss/data/v7_2/0.3/results/NGC_all_512/regression/nn_known/nn-weights.hp512.fits')    "
   ]
  },
  {
   "cell_type": "markdown",
   "metadata": {},
   "source": [
    "Read"
   ]
  },
  {
   "cell_type": "code",
   "execution_count": null,
   "metadata": {},
   "outputs": [],
   "source": []
  },
  {
   "cell_type": "code",
   "execution_count": null,
   "metadata": {},
   "outputs": [],
   "source": []
  },
  {
   "cell_type": "code",
   "execution_count": null,
   "metadata": {},
   "outputs": [],
   "source": [
    "nran = randoms.tohp(512, 0.8, 2.2, raw=1)\n",
    "print(nran[nran>0].mean())\n",
    "frac1 = nran / 65.\n",
    "frac2 = nran / nran[nran>0].mean()\n",
    "frac1 = frac1[y_poi['hpix']]\n",
    "frac2 = frac2[y_poi_nran['hpix']]"
   ]
  },
  {
   "cell_type": "code",
   "execution_count": null,
   "metadata": {},
   "outputs": [],
   "source": [
    "plt.scatter(y_poi['pred'], y_poi_nran['pred'], 1., alpha=0.5)\n",
    "\n",
    "plt.xlabel(\"lambda\")\n",
    "plt.ylabel(\"lambda'\")\n",
    "plt.xlim(-0.1, 3.5)\n",
    "plt.ylim(-0.1, 2.4)"
   ]
  },
  {
   "cell_type": "code",
   "execution_count": null,
   "metadata": {},
   "outputs": [],
   "source": [
    "# organize w_sys as HEALPix\n",
    "w_syspoi = np.zeros(12*512*512)\n",
    "w_syspoi[y_poi['hpix']] = y_poi['pred'] \n",
    "\n",
    "#w_sysgau = np.zeros_like(w_syspoi)\n",
    "#w_sysgau[y_gau['hpix']] = y_gau['pred'] \n",
    "\n",
    "# organize observed ngal, frac, mask, and ebv\n",
    "y_ = ft.read('/home/mehdi/data/eboss/data/v7_2/0.6/eboss_ngal_ngc_all_512.fits')\n",
    "\n",
    "n_obs = np.zeros(12*512*512)\n",
    "n_obs[y_['hpind']] = y_['label']\n",
    "\n",
    "fpix = np.zeros_like(n_obs)\n",
    "fpix[y_['hpind']] = y_['fracgood']\n",
    "\n",
    "mask = np.zeros_like(n_obs, '?')\n",
    "mask[y_['hpind']] = True\n",
    "\n",
    "ebv = np.zeros_like(n_obs)\n",
    "ebv[y_['hpind']] = y_['features'][:, 2]\n",
    "\n",
    "# np.setdiff1d(y_poi['hpix'], np.argwhere(mask).flatten()) []\n",
    "# np.array_equal(ngcall['label'], y_['label']) True"
   ]
  },
  {
   "cell_type": "code",
   "execution_count": null,
   "metadata": {
    "scrolled": true
   },
   "outputs": [],
   "source": [
    "# construct the overdensity\n",
    "delta_i = n_obs / fpix - 1 # fpix = fpix / weight\n",
    "# delta_fg = n_obs / (fpix*w_sysgau) - 1\n",
    "delta_fp = n_obs / (w_syspoi) - 1\n",
    "\n",
    "mask_c = (w_syspoi/fpix>0.5) & (w_syspoi/fpix < 2.0)\n",
    "mask_t = mask_c & mask\n",
    "print(mask_c.sum(), mask.sum(), mask_t.sum())"
   ]
  },
  {
   "cell_type": "code",
   "execution_count": null,
   "metadata": {},
   "outputs": [],
   "source": [
    "sf = (w_syspoi[mask_t]*fpix[mask_t]).sum()/n_obs[mask_t].sum()"
   ]
  },
  {
   "cell_type": "code",
   "execution_count": null,
   "metadata": {},
   "outputs": [],
   "source": [
    "delta_fpp = (n_obs / (fpix*w_syspoi/sf))-1."
   ]
  },
  {
   "cell_type": "code",
   "execution_count": null,
   "metadata": {},
   "outputs": [],
   "source": [
    "delta_i[mask].mean(), delta_i[mask_t].mean(), delta_fpp[mask_t].mean(), delta_fp[mask].mean()"
   ]
  },
  {
   "cell_type": "code",
   "execution_count": null,
   "metadata": {},
   "outputs": [],
   "source": []
  },
  {
   "cell_type": "code",
   "execution_count": null,
   "metadata": {},
   "outputs": [],
   "source": [
    "delta_fg = n_obs / (fpix*wsys_default) - 1"
   ]
  },
  {
   "cell_type": "code",
   "execution_count": null,
   "metadata": {},
   "outputs": [],
   "source": [
    "_=plt.hist(frac_raw, bins=50, range=(1.e-6, 2), )\n",
    "plt.xlabel('fpix')"
   ]
  },
  {
   "cell_type": "code",
   "execution_count": null,
   "metadata": {},
   "outputs": [],
   "source": [
    "nmodel_default_prime[mask].max()"
   ]
  },
  {
   "cell_type": "code",
   "execution_count": null,
   "metadata": {},
   "outputs": [],
   "source": [
    "nmodel_default_prime2[mask].max()"
   ]
  },
  {
   "cell_type": "code",
   "execution_count": null,
   "metadata": {},
   "outputs": [],
   "source": [
    "fig, ax = plt.subplots(figsize=(8, 5))\n",
    "\n",
    "ax = plot_nobs_nmodel(nmodel_poisson_prime[mask], n_obs[mask], ax, 'Nobs', 'fpix x Nmodel / weight',  label='Poisson Nmodel', xlim=(-1, 8), ylim=(-1, 4))\n",
    "ax = plot_nobs_nmodel(nmodel_default_prime[mask], n_obs[mask], ax, 'Nobs', 'fpix x Nmodel / weight',  color='b', add_scatter=False, label='Nbar x F^', xlim=(-1, 8), ylim=(-1, 4))\n",
    "ax = plot_nobs_nmodel(nmodel_default_prime2[mask], n_obs[mask], ax, 'Nobs', 'fpix x Nmodel / weight', color='orange', add_scatter=False, label='Nbar x F^ x fpix', xlim=(-1, 8), ylim=(-1, 4))\n",
    "ax.legend()"
   ]
  },
  {
   "cell_type": "markdown",
   "metadata": {},
   "source": [
    "histogram of delta"
   ]
  },
  {
   "cell_type": "code",
   "execution_count": null,
   "metadata": {},
   "outputs": [],
   "source": [
    "xdelta = np.linspace(-1, 10, 100)\n",
    "_, bins,_= plt.hist(delta_fp[mask], range=(-1, 10), bins=40, alpha=0.5, color='b')\n",
    "plt.hist(delta_fp[mask_t], bins=bins, alpha=0.6, label='0.5<Wsys<2.0', color='orange')\n",
    "plt.plot(xdelta-1, 4.5e4*lognorm.pdf(xdelta, 0.7), label='lognorm')\n",
    "plt.yscale('log')\n",
    "plt.legend()\n",
    "plt.xlabel(r'$\\delta$')"
   ]
  },
  {
   "cell_type": "code",
   "execution_count": null,
   "metadata": {},
   "outputs": [],
   "source": [
    "mask_t.sum() / mask.sum()"
   ]
  },
  {
   "cell_type": "code",
   "execution_count": null,
   "metadata": {},
   "outputs": [],
   "source": []
  },
  {
   "cell_type": "code",
   "execution_count": null,
   "metadata": {},
   "outputs": [],
   "source": []
  },
  {
   "cell_type": "code",
   "execution_count": null,
   "metadata": {},
   "outputs": [],
   "source": []
  },
  {
   "cell_type": "code",
   "execution_count": null,
   "metadata": {},
   "outputs": [],
   "source": []
  },
  {
   "cell_type": "code",
   "execution_count": null,
   "metadata": {},
   "outputs": [],
   "source": []
  },
  {
   "cell_type": "code",
   "execution_count": null,
   "metadata": {},
   "outputs": [],
   "source": [
    "from LSSutils.lab import AnaFast, MeanDensity"
   ]
  },
  {
   "cell_type": "code",
   "execution_count": null,
   "metadata": {},
   "outputs": [],
   "source": [
    "# compute mean density vs ebv\n",
    "frac = np.ones(mask.size)\n",
    "\n",
    "nbar = MeanDensity(delta_i+1, frac, mask, ebv)\n",
    "nbar.run()\n",
    "nbarg = MeanDensity(delta_fg+1, frac, mask, ebv)\n",
    "nbarg.run()\n",
    "nbarp = MeanDensity(delta_fp+1, frac, mask, ebv)\n",
    "nbarp.run()"
   ]
  },
  {
   "cell_type": "code",
   "execution_count": null,
   "metadata": {},
   "outputs": [],
   "source": [
    "from LSSutils.lab import overdensity"
   ]
  },
  {
   "cell_type": "code",
   "execution_count": null,
   "metadata": {},
   "outputs": [],
   "source": [
    "delta_nn = overdensity(n_obs_raw, frac_raw, mask_t, selection_fn=wsys_default)"
   ]
  },
  {
   "cell_type": "code",
   "execution_count": null,
   "metadata": {},
   "outputs": [],
   "source": [
    "delta_nn_p = overdensity(n_obs_raw, frac_raw, mask_t, selection_fn=w_syspoi)"
   ]
  },
  {
   "cell_type": "code",
   "execution_count": null,
   "metadata": {},
   "outputs": [],
   "source": [
    "clnnp = af(delta_nn_p, frac_raw, mask_t)"
   ]
  },
  {
   "cell_type": "code",
   "execution_count": null,
   "metadata": {},
   "outputs": [],
   "source": [
    "# compute angular C_ell\n",
    "af = AnaFast()\n",
    "cl = af(delta_i, frac_raw, mask_t)\n",
    "clg = af(delta_fg, frac_raw, mask_t)\n",
    "clp = af(delta_fp, frac_raw, mask_t)"
   ]
  },
  {
   "cell_type": "code",
   "execution_count": null,
   "metadata": {},
   "outputs": [],
   "source": [
    "clnn = af(delta_nn, frac_raw, mask_t)"
   ]
  },
  {
   "cell_type": "code",
   "execution_count": null,
   "metadata": {},
   "outputs": [],
   "source": [
    "cl_raw = af(delta_raw_default, frac_raw, mask_t)"
   ]
  },
  {
   "cell_type": "code",
   "execution_count": null,
   "metadata": {},
   "outputs": [],
   "source": [
    "fig, ax = plt.subplots(ncols=2, figsize=(12, 4))\n",
    "\n",
    "# mk=['o', 's', 'x']\n",
    "\n",
    "# for i, nbar_i in enumerate([nbar, nbarg, nbarp]):\n",
    "    \n",
    "#     ax[0].plot(nbar_i.output['bin_avg'], \n",
    "#                nbar_i.output['nnbar'], \n",
    "#                marker=mk[i])\n",
    "    \n",
    "# ax[0].set(xlabel='EBV', ylabel='N/Nbar', xscale='log')\n",
    "\n",
    "names = ['No W',  'Pois.'] # 'Gauss.',\n",
    "\n",
    "    \n",
    "ax[1].loglog(cl_raw['l'], cl_raw['cl'], 'k-')    \n",
    "ax[1].loglog(cl['l'], cl['cl'], label='No W')\n",
    "ax[1].loglog(clp['l'], clp['cl'], label='w Poiss. Nmodel')\n",
    "ax[1].loglog(clp['l'], clnnp['cl'], 'r--', label='w Poiss. Nmodel')\n",
    "ax[1].loglog(clg['l'], clg['cl'], label='w F^')\n",
    "ax[1].loglog(clnn['l'], clnn['cl'], 'k--', label='w F^')\n",
    "    \n",
    "ax[1].set_ylim(1.0e-7, 1.0e-2)    \n",
    "ax[1].legend()\n",
    "ax[1].set(ylabel=r'$C_{\\ell}$', xlabel=r'$\\ell$')"
   ]
  },
  {
   "cell_type": "code",
   "execution_count": null,
   "metadata": {},
   "outputs": [],
   "source": []
  },
  {
   "cell_type": "code",
   "execution_count": null,
   "metadata": {},
   "outputs": [],
   "source": []
  },
  {
   "cell_type": "code",
   "execution_count": null,
   "metadata": {},
   "outputs": [],
   "source": []
  },
  {
   "cell_type": "code",
   "execution_count": null,
   "metadata": {},
   "outputs": [],
   "source": []
  },
  {
   "cell_type": "code",
   "execution_count": null,
   "metadata": {},
   "outputs": [],
   "source": []
  },
  {
   "cell_type": "code",
   "execution_count": null,
   "metadata": {},
   "outputs": [],
   "source": []
  },
  {
   "cell_type": "code",
   "execution_count": null,
   "metadata": {},
   "outputs": [],
   "source": []
  },
  {
   "cell_type": "code",
   "execution_count": null,
   "metadata": {},
   "outputs": [],
   "source": [
    "from scipy.stats import binned_statistic"
   ]
  },
  {
   "cell_type": "code",
   "execution_count": null,
   "metadata": {},
   "outputs": [],
   "source": [
    "def binit(x, values, frac, bins):\n",
    "    n_, be_, _ = binned_statistic(x, values, statistic='sum', bins=bins)\n",
    "    f_, be_, _ = binned_statistic(x, frac, statistic='sum', bins=bins)\n",
    "    bc = 0.5*(be_[1:]+be_[:-1])\n",
    "    return bc, (n_/f_) / (n_.sum()/f_.sum())    "
   ]
  },
  {
   "cell_type": "code",
   "execution_count": null,
   "metadata": {},
   "outputs": [],
   "source": [
    "bins =  np.logspace(np.log10(ebv.min()), np.log10(ebv.max()), num=8)"
   ]
  },
  {
   "cell_type": "code",
   "execution_count": null,
   "metadata": {},
   "outputs": [],
   "source": [
    "true = binit(ebv, n_true, frac, bins)\n",
    "model1 = binit(ebv, y_poi['pred'], frac, bins)\n",
    "model2 = binit(ebv, y_gau['pred'], frac, bins)\n",
    "#model3 = binit(ebv, y_poiw['pred'], frac, bins)"
   ]
  },
  {
   "cell_type": "code",
   "execution_count": null,
   "metadata": {},
   "outputs": [],
   "source": [
    "plt.plot(*true, marker='o', mfc='w')\n",
    "plt.plot(*model1, marker='o')\n",
    "plt.plot(*model2, marker='s')\n",
    "# plt.plot(*model3, marker='s')\n",
    "plt.legend(['Observed', 'PNLL', 'MSE'], loc=3)#, 'NPLL'])\n",
    "plt.xlabel('EBV')\n",
    "plt.xscale('log')\n",
    "plt.ylabel(r'$\\overline{\\rm Ngal}$')"
   ]
  },
  {
   "cell_type": "code",
   "execution_count": null,
   "metadata": {},
   "outputs": [],
   "source": [
    "plt.scatter(ebv, n_true, alpha=0.5, label='Observed Ngal')\n",
    "plt.scatter(ebv, y_poi['pred'], alpha=0.2, label=r'$\\lambda$')\n",
    "plt.legend()\n",
    "plt.xlabel('EBV')\n",
    "plt.ylabel('Ngal')"
   ]
  },
  {
   "cell_type": "code",
   "execution_count": null,
   "metadata": {},
   "outputs": [],
   "source": []
  },
  {
   "cell_type": "code",
   "execution_count": null,
   "metadata": {},
   "outputs": [],
   "source": []
  },
  {
   "cell_type": "code",
   "execution_count": null,
   "metadata": {},
   "outputs": [],
   "source": [
    "((n_true-y_gau['pred'])**2).mean()"
   ]
  },
  {
   "cell_type": "code",
   "execution_count": null,
   "metadata": {},
   "outputs": [],
   "source": [
    "y_gau.keys()"
   ]
  },
  {
   "cell_type": "code",
   "execution_count": null,
   "metadata": {},
   "outputs": [],
   "source": [
    "y_gau['metrics']['partition_0'].keys()"
   ]
  },
  {
   "cell_type": "code",
   "execution_count": null,
   "metadata": {},
   "outputs": [],
   "source": [
    "plt.plot(y_poi['metrics']['partition_0']['val_losses'], 'r--',\n",
    "        y_poi['metrics']['partition_0']['train_losses'], 'k-')\n",
    "plt.legend(['Validation', 'Training'])\n",
    "\n",
    "plt.axhline(y_poi['metrics']['partition_0']['base_train_loss'], ls=':', c='k')\n",
    "plt.axhline(y_poi['metrics']['partition_0']['base_val_loss'], ls=':', c='r')\n",
    "plt.ylim(0.965, 0.997)\n",
    "plt.ylabel('PNLL')\n",
    "plt.xlabel('EPOCH')"
   ]
  },
  {
   "cell_type": "code",
   "execution_count": null,
   "metadata": {},
   "outputs": [],
   "source": [
    "plt.plot(y_gau['metrics']['partition_0']['val_losses'], 'r--',\n",
    "         y_gau['metrics']['partition_0']['train_losses'], 'k-')\n",
    "plt.legend(['Validation', 'Training'])\n",
    "\n",
    "plt.axhline(y_gau['metrics']['partition_0']['base_train_loss'], ls=':', c='k')\n",
    "plt.axhline(y_gau['metrics']['partition_0']['base_val_loss'], ls=':', c='r')\n",
    "plt.ylim(0.9, 0.955)\n",
    "plt.ylabel('MSE')\n",
    "plt.xlabel('EPOCH')"
   ]
  },
  {
   "cell_type": "code",
   "execution_count": null,
   "metadata": {},
   "outputs": [],
   "source": []
  },
  {
   "cell_type": "code",
   "execution_count": null,
   "metadata": {},
   "outputs": [],
   "source": []
  },
  {
   "cell_type": "code",
   "execution_count": null,
   "metadata": {},
   "outputs": [],
   "source": []
  },
  {
   "cell_type": "code",
   "execution_count": null,
   "metadata": {},
   "outputs": [],
   "source": [
    "import torch\n",
    "import torch.nn.functional as F\n",
    "from torch.autograd import Variable"
   ]
  },
  {
   "cell_type": "code",
   "execution_count": null,
   "metadata": {},
   "outputs": [],
   "source": [
    "x = torch.randn((100, 1))"
   ]
  },
  {
   "cell_type": "code",
   "execution_count": null,
   "metadata": {},
   "outputs": [],
   "source": [
    "plt.scatter(x, F.softplus(x))\n",
    "plt.scatter(x, np.log(1+np.exp(x)), \n",
    "            color='orange', marker='x', label='Softplus')\n",
    "plt.scatter(x, F.relu(x), color='r', marker='.', label='RELU')\n",
    "plt.legend()"
   ]
  },
  {
   "cell_type": "code",
   "execution_count": null,
   "metadata": {},
   "outputs": [],
   "source": []
  }
 ],
 "metadata": {
  "kernelspec": {
   "display_name": "python (py3p6)",
   "language": "python",
   "name": "py3p6"
  },
  "language_info": {
   "codemirror_mode": {
    "name": "ipython",
    "version": 3
   },
   "file_extension": ".py",
   "mimetype": "text/x-python",
   "name": "python",
   "nbconvert_exporter": "python",
   "pygments_lexer": "ipython3",
   "version": "3.7.4"
  }
 },
 "nbformat": 4,
 "nbformat_minor": 4
}
