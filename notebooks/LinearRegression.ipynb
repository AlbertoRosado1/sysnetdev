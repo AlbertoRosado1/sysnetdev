{
 "cells": [
  {
   "cell_type": "code",
   "execution_count": null,
   "metadata": {},
   "outputs": [],
   "source": [
    "%matplotlib inline\n",
    "import numpy as np  # this is numpy\n",
    "import matplotlib.pyplot as plt\n",
    "import pandas as pd"
   ]
  },
  {
   "cell_type": "code",
   "execution_count": null,
   "metadata": {},
   "outputs": [],
   "source": [
    "def dataloader(N, verbose=False):\n",
    "    '''\n",
    "    Function  to create 2N binary data\n",
    "\n",
    "    inputs\n",
    "    -------\n",
    "    N: int\n",
    "\n",
    "    output\n",
    "    -------\n",
    "    data: [2N, 2]\n",
    "    labels: [2N]\n",
    "    '''\n",
    "    pdf1 = np.random.multivariate_normal([1, -0.8], np.eye(2), size=N)\n",
    "    class1 = np.zeros(N, 'int')\n",
    "\n",
    "    pdf2 = np.random.multivariate_normal([-0.8, 1], np.eye(2), size=N)\n",
    "    class2 = np.ones(N)\n",
    "\n",
    "    if verbose:\n",
    "        # ---  scatter plot of the data\n",
    "        fig, ax = plt.subplots()\n",
    "        kw = dict(marker='o', alpha=0.5, edgecolors='k')\n",
    "        ax.scatter(pdf1[:, 0], pdf1[:, 1], color='royalblue', **kw)\n",
    "        ax.scatter(pdf2[:, 0], pdf2[:, 1], color='orange', **kw)\n",
    "        plt.show()\n",
    "        plt.close()\n",
    "\n",
    "    data = np.row_stack([pdf1, pdf2])\n",
    "    labels = np.concatenate([class1, class2])\n",
    "\n",
    "    dataset = np.column_stack([data, labels])\n",
    "    df = pd.DataFrame(dataset, columns=['x1', 'x2', 'class'])\n",
    "    #df.shuffle(inplace=True)\n",
    "    return df"
   ]
  },
  {
   "cell_type": "code",
   "execution_count": null,
   "metadata": {},
   "outputs": [],
   "source": [
    "class LinearRegression(object):\n",
    "    def __init__(self, verbose=False):\n",
    "        self.verbose = verbose\n",
    "\n",
    "    def fit(self, X, Y):\n",
    "        intersect = np.ones(X.shape[0])\n",
    "        X = np.column_stack([intersect, X])\n",
    "        XX = X.T.dot(X)\n",
    "        invXX = np.linalg.inv(XX)\n",
    "        self.Beta = invXX.dot(X.T.dot(Y))\n",
    "\n",
    "        if self.verbose:\n",
    "            print(f'{self.Beta} with RSS: {self._rss(X, Y):.2f}')\n",
    "            self._plot(X, Y)\n",
    "\n",
    "    def predict(self, X):\n",
    "        return X.T.dot(self.Beta)\n",
    "\n",
    "    def _rss(self, X, Y):\n",
    "        return ((Y - X.dot(self.Beta))**2).sum()\n",
    "\n",
    "    def _plot(self, X, Y):\n",
    "        kws = dict(marker='o', alpha=0.5, edgecolors='k')\n",
    "        fig, ax = plt.subplots()\n",
    "        print(X.shape)\n",
    "\n",
    "\n",
    "        ax.scatter(X[:, 1], X[:, 2], c=Y, **kws)\n",
    "        # xT beta = 0.5\n",
    "        # [1, x1, x2] * [b0, b1, b2] = 0.5\n",
    "        # b0 + x1 * b1 + x2 * b2 = 0.5\n",
    "        # x2 = (0.5 - x1*b1 - b0)/b2\n",
    "        xrange = np.linspace(X[:,1].min(), X[:, 1].max())\n",
    "        \n",
    "        X2hat = (0.5 - xrange*self.Beta[1] - self.Beta[0])/self.Beta[2]\n",
    "        ax.plot(xrange, X2hat)\n",
    "        ax.fill_between(xrange, X2hat, 4, color='yellow', alpha=0.2, zorder=-1)\n",
    "        ax.fill_between(xrange, -5, X2hat, color='purple', alpha=0.2, zorder=-1)\n",
    "\n",
    "        plt.show()\n",
    "        plt.close()"
   ]
  },
  {
   "cell_type": "code",
   "execution_count": null,
   "metadata": {},
   "outputs": [],
   "source": [
    "df = dataloader(300)"
   ]
  },
  {
   "cell_type": "code",
   "execution_count": null,
   "metadata": {},
   "outputs": [],
   "source": [
    "plt.scatter(df['x1'], df['x2'], c=df['class'])"
   ]
  },
  {
   "cell_type": "code",
   "execution_count": null,
   "metadata": {},
   "outputs": [],
   "source": [
    "x = df[['x1', 'x2']].values\n",
    "y = df['class'].values\n",
    "x.shape, y.shape"
   ]
  },
  {
   "cell_type": "markdown",
   "metadata": {},
   "source": [
    "Let's add the bias feature to x"
   ]
  },
  {
   "cell_type": "code",
   "execution_count": null,
   "metadata": {},
   "outputs": [],
   "source": [
    "x = np.column_stack([np.ones(x.shape[0]), x])\n",
    "x.shape"
   ]
  },
  {
   "cell_type": "code",
   "execution_count": null,
   "metadata": {},
   "outputs": [],
   "source": [
    "from time import time"
   ]
  },
  {
   "cell_type": "code",
   "execution_count": null,
   "metadata": {},
   "outputs": [],
   "source": [
    "class LinearRegression:\n",
    "    '''\n",
    "        Linear Regression with PyTorch\n",
    "        \n",
    "        \n",
    "        Algorithm\n",
    "        -----------\n",
    "        thetas = (X^t.X)^-1.(X.Y)\n",
    "        \n",
    "        see e.g.,\n",
    "        https://pytorch.org/docs/master/torch.html#torch.inverse\n",
    "        https://pytorch.org/docs/master/nn.html#torch.nn.MSELoss\n",
    "    \n",
    "    '''\n",
    "     \n",
    "    def __init__(self, reduction='sum'):\n",
    "        self.cost = torch.nn.MSELoss(reduction=reduction)\n",
    "        \n",
    "    def fit(self, x, y, verbose=False):\n",
    "\n",
    "        # check input\n",
    "        if isinstance(x, np.ndarray):\n",
    "            x = torch.from_numpy(x)\n",
    "        if isinstance(y, np.ndarray):\n",
    "            y = torch.from_numpy(y)\n",
    "            \n",
    "        # thetas = (X^t.X)^-1.(X.Y)\n",
    "        t0 = time()        \n",
    "        xx = torch.matmul(x.T, x)\n",
    "        xx_inv = torch.inverse(xx)\n",
    "        self.coef_ = torch.matmul(xx_inv, torch.matmul(x.T, y))        \n",
    "        t1 = time()        \n",
    "        \n",
    "        if verbose:\n",
    "            cost_ = self.cost(y, self.predict(x))\n",
    "            print(f'Parameters: {self.coef_}'\\\n",
    "                  f' cost: {cost_:.3f} in {t1-t0:.3f} sec')\n",
    "        \n",
    "    def predict(self, x):\n",
    "        return torch.matmul(self.coef_, x.T)"
   ]
  },
  {
   "cell_type": "code",
   "execution_count": null,
   "metadata": {},
   "outputs": [],
   "source": [
    "import torch"
   ]
  },
  {
   "cell_type": "code",
   "execution_count": null,
   "metadata": {},
   "outputs": [],
   "source": [
    "LR = LinearRegression()"
   ]
  },
  {
   "cell_type": "code",
   "execution_count": null,
   "metadata": {},
   "outputs": [],
   "source": [
    "LR.__name__"
   ]
  },
  {
   "cell_type": "code",
   "execution_count": null,
   "metadata": {},
   "outputs": [],
   "source": [
    "LR.fit(x, y, verbose=True)"
   ]
  },
  {
   "cell_type": "code",
   "execution_count": null,
   "metadata": {},
   "outputs": [],
   "source": [
    "LR = LinearRegression(verbose=True)\n",
    "LR.fit(df.loc[:, ['x1', 'x2']].values, df['class'].values)"
   ]
  },
  {
   "cell_type": "code",
   "execution_count": null,
   "metadata": {},
   "outputs": [],
   "source": [
    "fig, ax = plt.subplots()\n",
    "\n",
    "kw = dict(marker='o', alpha=0.8, edgecolors='k')\n",
    "ax.scatter(*pdf1.T, c=np.ones(100), **kw)\n",
    "ax.scatter(*pdf2.T, c=np.zeros(100), **kw)"
   ]
  },
  {
   "cell_type": "code",
   "execution_count": null,
   "metadata": {},
   "outputs": [],
   "source": []
  }
 ],
 "metadata": {
  "kernelspec": {
   "display_name": "python (sysnet)",
   "language": "python",
   "name": "sysnet"
  },
  "language_info": {
   "codemirror_mode": {
    "name": "ipython",
    "version": 3
   },
   "file_extension": ".py",
   "mimetype": "text/x-python",
   "name": "python",
   "nbconvert_exporter": "python",
   "pygments_lexer": "ipython3",
   "version": "3.8.3"
  }
 },
 "nbformat": 4,
 "nbformat_minor": 4
}
