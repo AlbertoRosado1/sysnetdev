{
 "cells": [
  {
   "cell_type": "code",
   "execution_count": 1,
   "metadata": {},
   "outputs": [],
   "source": [
    "# ---  give the path\n",
    "import sys\n",
    "sys.path.insert(0, '/Users/mehdi/github/pipeline')"
   ]
  },
  {
   "cell_type": "code",
   "execution_count": 2,
   "metadata": {},
   "outputs": [
    {
     "ename": "ModuleNotFoundError",
     "evalue": "No module named 'sysnet'",
     "output_type": "error",
     "traceback": [
      "\u001b[0;31m---------------------------------------------------------------------------\u001b[0m",
      "\u001b[0;31mModuleNotFoundError\u001b[0m                       Traceback (most recent call last)",
      "\u001b[0;32m<ipython-input-2-27b92103dfa6>\u001b[0m in \u001b[0;36m<module>\u001b[0;34m\u001b[0m\n\u001b[1;32m      5\u001b[0m \u001b[0;32mimport\u001b[0m \u001b[0mos\u001b[0m\u001b[0;34m\u001b[0m\u001b[0;34m\u001b[0m\u001b[0m\n\u001b[1;32m      6\u001b[0m \u001b[0;34m\u001b[0m\u001b[0m\n\u001b[0;32m----> 7\u001b[0;31m from sysnet import (load_data, train_val, \n\u001b[0m\u001b[1;32m      8\u001b[0m                     NLayerNet, evaluate, LRFinder)\n\u001b[1;32m      9\u001b[0m \u001b[0;34m\u001b[0m\u001b[0m\n",
      "\u001b[0;31mModuleNotFoundError\u001b[0m: No module named 'sysnet'"
     ]
    }
   ],
   "source": [
    "%matplotlib inline\n",
    "import matplotlib.pyplot as plt\n",
    "import torch\n",
    "import torch.nn as nn\n",
    "import os\n",
    "\n",
    "from sysnet import (load_data, train_val, \n",
    "                    NLayerNet, evaluate, LRFinder)\n",
    "\n",
    "from torch.optim import AdamW\n",
    "from torch.optim.lr_scheduler import CosineAnnealingWarmRestarts"
   ]
  },
  {
   "cell_type": "markdown",
   "metadata": {},
   "source": [
    "1. find device"
   ]
  },
  {
   "cell_type": "code",
   "execution_count": 3,
   "metadata": {},
   "outputs": [
    {
     "data": {
      "text/plain": [
       "device(type='cpu')"
      ]
     },
     "execution_count": 3,
     "metadata": {},
     "output_type": "execute_result"
    }
   ],
   "source": [
    "device = torch.device(\"cuda:0\" if torch.cuda.is_available() else \"cpu\")\n",
    "device"
   ]
  },
  {
   "cell_type": "markdown",
   "metadata": {},
   "source": [
    "2. load data"
   ]
  },
  {
   "cell_type": "code",
   "execution_count": 4,
   "metadata": {},
   "outputs": [],
   "source": [
    "# ---  load data\n",
    "dataloaders, data_len, stats = load_data('/Users/mehdi/eBOSS.ELG.NGC.DR7.table.fits', 512)"
   ]
  },
  {
   "cell_type": "markdown",
   "metadata": {},
   "source": [
    "3. find learning rate"
   ]
  },
  {
   "cell_type": "code",
   "execution_count": 5,
   "metadata": {},
   "outputs": [
    {
     "data": {
      "application/vnd.jupyter.widget-view+json": {
       "model_id": "cb2534e0bf79429f97bed2b55ed08ba8",
       "version_major": 2,
       "version_minor": 0
      },
      "text/plain": [
       "HBox(children=(FloatProgress(value=0.0, max=300.0), HTML(value='')))"
      ]
     },
     "metadata": {},
     "output_type": "display_data"
    },
    {
     "name": "stdout",
     "output_type": "stream",
     "text": [
      "Stopping early, the loss has diverged\n",
      "Learning rate search finished. See the graph with {finder_name}.plot()\n",
      "\n"
     ]
    },
    {
     "data": {
      "image/png": "[encoded data removed]",
      "text/plain": [
       "<Figure size 432x288 with 1 Axes>"
      ]
     },
     "metadata": {
      "needs_background": "light"
     },
     "output_type": "display_data"
    }
   ],
   "source": [
    "# --- find learning rate\n",
    "model = NLayerNet()\n",
    "\n",
    "optimizer = AdamW(params=model.parameters(),\n",
    "                  lr=1.0e-7,\n",
    "                  betas=(0.9, 0.999),\n",
    "                  eps=1e-08,\n",
    "                  weight_decay=0.01,\n",
    "                  amsgrad=False)\n",
    "\n",
    "criterion = nn.MSELoss(reduction='mean')\n",
    "\n",
    "lr_finder = LRFinder(model, optimizer, criterion, device=device)\n",
    "lr_finder.range_test(dataloaders['train'], end_lr=1, num_iter=300)\n",
    "lr_finder.plot() # to inspect the loss-learning rate graph\n",
    "lr_finder.reset()"
   ]
  },
  {
   "cell_type": "markdown",
   "metadata": {},
   "source": [
    "4. compile model with the best learning rate"
   ]
  },
  {
   "cell_type": "code",
   "execution_count": 6,
   "metadata": {},
   "outputs": [],
   "source": [
    "lr_best = 1.0e-3\n",
    "eta_min = 1.0e-5\n",
    "model = NLayerNet()\n",
    "\n",
    "optimizer = AdamW(params=model.parameters(),\n",
    "                  lr=lr_best,\n",
    "                  betas=(0.9, 0.999),\n",
    "                  eps=1e-08,\n",
    "                  weight_decay=0.01,\n",
    "                  amsgrad=False)\n",
    "\n",
    "scheduler = CosineAnnealingWarmRestarts(optimizer,\n",
    "                                       T_0=10,\n",
    "                                       T_mult=2,\n",
    "                                       eta_min=eta_min)\n",
    "\n",
    "criterion = nn.MSELoss(reduction='mean')\n",
    "\n",
    "nepochs = 20\n",
    "output_path = '../checkpoints/model_test.pt'"
   ]
  },
  {
   "cell_type": "markdown",
   "metadata": {},
   "source": [
    "5. train "
   ]
  },
  {
   "cell_type": "code",
   "execution_count": 7,
   "metadata": {
    "scrolled": false
   },
   "outputs": [
    {
     "name": "stdout",
     "output_type": "stream",
     "text": [
      "Epoch 00/19 train loss: 0.959 valid loss: 0.925 lr: 0.000976\n",
      "Epoch 01/19 train loss: 0.930 valid loss: 0.917 lr: 0.000906\n",
      "Epoch 02/19 train loss: 0.919 valid loss: 0.906 lr: 0.000797\n",
      "Epoch 03/19 train loss: 0.910 valid loss: 0.905 lr: 0.000659\n",
      "Epoch 04/19 train loss: 0.903 valid loss: 0.898 lr: 0.000506\n",
      "Epoch 05/19 train loss: 0.897 valid loss: 0.895 lr: 0.000353\n",
      "Epoch 06/19 train loss: 0.891 valid loss: 0.893 lr: 0.000215\n",
      "Epoch 07/19 train loss: 0.887 valid loss: 0.892 lr: 0.000105\n",
      "Epoch 08/19 train loss: 0.883 valid loss: 0.890 lr: 0.000034\n",
      "Epoch 09/19 train loss: 0.883 valid loss: 0.891 lr: 0.000010\n",
      "EarlyStopping counter: 1/10\n",
      "Epoch 10/19 train loss: 0.894 valid loss: 0.893 lr: 0.000994\n",
      "EarlyStopping counter: 2/10\n",
      "Epoch 11/19 train loss: 0.891 valid loss: 0.895 lr: 0.000976\n",
      "EarlyStopping counter: 3/10\n",
      "Epoch 12/19 train loss: 0.887 valid loss: 0.892 lr: 0.000946\n",
      "EarlyStopping counter: 4/10\n",
      "Epoch 13/19 train loss: 0.883 valid loss: 0.888 lr: 0.000906\n",
      "Epoch 14/19 train loss: 0.878 valid loss: 0.889 lr: 0.000855\n",
      "EarlyStopping counter: 1/10\n",
      "Epoch 15/19 train loss: 0.874 valid loss: 0.883 lr: 0.000796\n",
      "Epoch 16/19 train loss: 0.871 valid loss: 0.883 lr: 0.000730\n",
      "EarlyStopping counter: 1/10\n",
      "Epoch 17/19 train loss: 0.867 valid loss: 0.883 lr: 0.000658\n",
      "EarlyStopping counter: 2/10\n",
      "Epoch 18/19 train loss: 0.863 valid loss: 0.880 lr: 0.000583\n",
      "Epoch 19/19 train loss: 0.860 valid loss: 0.885 lr: 0.000505\n",
      "EarlyStopping counter: 1/10\n"
     ]
    }
   ],
   "source": [
    "train_losses, val_losses = train_val(model, \n",
    "                                    dataloaders,\n",
    "                                    data_len, \n",
    "                                    criterion, \n",
    "                                    optimizer, \n",
    "                                    nepochs, \n",
    "                                    output_path, \n",
    "                                    device,\n",
    "                                    scheduler)"
   ]
  },
  {
   "cell_type": "code",
   "execution_count": 8,
   "metadata": {},
   "outputs": [
    {
     "data": {
      "text/plain": [
       "Text(0.5, 0, 'epochs')"
      ]
     },
     "execution_count": 8,
     "metadata": {},
     "output_type": "execute_result"
    },
    {
     "data": {
      "image/png": "[encoded data removed]",
      "text/plain": [
       "<Figure size 432x288 with 1 Axes>"
      ]
     },
     "metadata": {
      "needs_background": "light"
     },
     "output_type": "display_data"
    }
   ],
   "source": [
    "plt.plot(train_losses, 'b-',\n",
    "        val_losses, 'b--')\n",
    "plt.ylabel('MSE')\n",
    "plt.xlabel('epochs')"
   ]
  },
  {
   "cell_type": "code",
   "execution_count": 3,
   "metadata": {},
   "outputs": [],
   "source": [
    "import sys"
   ]
  },
  {
   "cell_type": "code",
   "execution_count": 4,
   "metadata": {},
   "outputs": [
    {
     "name": "stderr",
     "output_type": "stream",
     "text": [
      "WARNING:sysnet.sources.lr_finder:To enable mixed precision training, please install `apex`. Or you can re-install this package by the following command:\n",
      "  pip install torch-lr-finder -v --global-option=\"amp\"\n"
     ]
    }
   ],
   "source": [
    "sys.path.append('/home/mehdi/github/sysnetdev')\n",
    "from sysnet.sources import DNN"
   ]
  },
  {
   "cell_type": "code",
   "execution_count": 5,
   "metadata": {},
   "outputs": [],
   "source": [
    "model = DNN(4, 20, 18, 1)"
   ]
  },
  {
   "cell_type": "code",
   "execution_count": null,
   "metadata": {},
   "outputs": [],
   "source": [
    "from tor"
   ]
  },
  {
   "cell_type": "code",
   "execution_count": 10,
   "metadata": {},
   "outputs": [],
   "source": [
    "# --- load model\n",
    "model.load_state_dict(torch.load('../checkpoints/model_test.pt'))\n",
    "criterion = nn.MSELoss(reduction='mean')"
   ]
  },
  {
   "cell_type": "code",
   "execution_count": 11,
   "metadata": {},
   "outputs": [
    {
     "data": {
      "text/plain": [
       "0.8925955295562744"
      ]
     },
     "execution_count": 11,
     "metadata": {},
     "output_type": "execute_result"
    }
   ],
   "source": [
    "evaluate(model, dataloaders, data_len, criterion, phase='test')"
   ]
  },
  {
   "cell_type": "code",
   "execution_count": 1,
   "metadata": {},
   "outputs": [],
   "source": [
    "import torch"
   ]
  },
  {
   "cell_type": "code",
   "execution_count": null,
   "metadata": {},
   "outputs": [],
   "source": []
  },
  {
   "cell_type": "code",
   "execution_count": 2,
   "metadata": {},
   "outputs": [
    {
     "data": {
      "text/plain": [
       "tensor([1., 1., 1., 1., 1., 1., 1., 1., 1., 1.])"
      ]
     },
     "execution_count": 2,
     "metadata": {},
     "output_type": "execute_result"
    }
   ],
   "source": [
    "a = torch.ones(10)"
   ]
  },
  {
   "cell_type": "code",
   "execution_count": null,
   "metadata": {},
   "outputs": [],
   "source": [
    "# --- \n",
    "# cross validation\n",
    "# skortch"
   ]
  }
 ],
 "metadata": {
  "kernelspec": {
   "display_name": "python (sysnet)",
   "language": "python",
   "name": "sysnet"
  },
  "language_info": {
   "codemirror_mode": {
    "name": "ipython",
    "version": 3
   },
   "file_extension": ".py",
   "mimetype": "text/x-python",
   "name": "python",
   "nbconvert_exporter": "python",
   "pygments_lexer": "ipython3",
   "version": "3.8.3"
  }
 },
 "nbformat": 4,
 "nbformat_minor": 4
}
