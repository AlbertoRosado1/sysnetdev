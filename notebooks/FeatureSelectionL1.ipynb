{
 "cells": [
  {
   "cell_type": "code",
   "execution_count": null,
   "metadata": {},
   "outputs": [],
   "source": [
    "%matplotlib inline\n",
    "import matplotlib.pyplot as plt\n",
    "\n",
    "import numpy as np\n",
    "import torch\n",
    "import sys\n",
    "sys.path.append('/Users/mehdi/github/sysnetdev')\n",
    "from sysnet.sources.models import DNN\n",
    "from sysnet.sources.io import load_checkpoint"
   ]
  },
  {
   "cell_type": "code",
   "execution_count": null,
   "metadata": {
    "scrolled": false
   },
   "outputs": [],
   "source": [
    "def load_l0weights(pid):\n",
    "    \"\"\" load model \"\"\" \n",
    "    model = DNN(*(5, 20, 18, 1))\n",
    "    \n",
    "    path = '../output/mock001_cp2p_adamw/model/'\n",
    "    load_checkpoint(f'{path}model_{pid}_2664485226/best.pth.tar', model)\n",
    "    \n",
    "    fc0_weight = model.fc[0].weight.data.numpy()\n",
    "    return fc0_weight"
   ]
  },
  {
   "cell_type": "code",
   "execution_count": null,
   "metadata": {},
   "outputs": [],
   "source": [
    "def imshow(f0w):\n",
    "    fig, ax = plt.subplots()\n",
    "    \n",
    "    ylabels = ['EBV', 'lnHI', 'nstar']\\\n",
    "            + ['-'.join([s, b]) for s in ['depth', 'seeing', 'skymag', 'exptime', 'mjd'] \\\n",
    "               for b in 'rgz']    \n",
    "    \n",
    "    map1 = ax.imshow(f0w.T, origin='lower', cmap=plt.cm.bwr, vmin=-.5, vmax=.5)#, vmin=-0.3, vmax=0.3)\n",
    "    fig.colorbar(map1)\n",
    "    ax.set_yticks(np.arange(18))\n",
    "    ax.set_yticklabels(ylabels)\n",
    "    \n",
    "    return ax"
   ]
  },
  {
   "cell_type": "code",
   "execution_count": null,
   "metadata": {},
   "outputs": [],
   "source": [
    "f0w = []\n",
    "for pid in range(5):\n",
    "    f0w.append(load_l0weights(pid))"
   ]
  },
  {
   "cell_type": "code",
   "execution_count": null,
   "metadata": {},
   "outputs": [],
   "source": [
    "%matplotlib inline"
   ]
  },
  {
   "cell_type": "code",
   "execution_count": null,
   "metadata": {},
   "outputs": [],
   "source": [
    "for f0wi in f0w:\n",
    "    imshow(f0wi)"
   ]
  },
  {
   "cell_type": "code",
   "execution_count": null,
   "metadata": {},
   "outputs": [],
   "source": [
    "xlabels = ['EBV', 'lnHI', 'nstar']\\\n",
    "        + ['-'.join([s, b]) for s in ['depth', 'seeing', 'skymag', 'exptime', 'mjd'] \\\n",
    "           for b in 'rgz']    \n",
    "\n",
    "for f0wi in f0w:    \n",
    "    plt.scatter(np.arange(18), abs(f0wi.mean(axis=0)), alpha=0.4)\n",
    "    \n",
    "plt.ylabel('|weight_i|')\n",
    "plt.ylim(ymax=0.26)\n",
    "_=plt.xticks(np.arange(18), labels=xlabels, rotation=90)"
   ]
  },
  {
   "cell_type": "code",
   "execution_count": null,
   "metadata": {},
   "outputs": [],
   "source": [
    "xlabels = ['EBV', 'lnHI', 'nstar']\\\n",
    "        + ['-'.join([s, b]) for s in ['depth', 'seeing', 'skymag', 'exptime', 'mjd'] \\\n",
    "           for b in 'rgz']    \n",
    "\n",
    "for f0wi in f0w:    \n",
    "    plt.scatter(np.arange(18), abs(f0wi.mean(axis=0)), alpha=0.4)\n",
    "    \n",
    "plt.ylabel('|weight_i|')\n",
    "_=plt.xticks(np.arange(18), labels=xlabels, rotation=90)"
   ]
  },
  {
   "cell_type": "code",
   "execution_count": null,
   "metadata": {},
   "outputs": [],
   "source": [
    "def imshow2(fc0w):\n",
    "    ylabels = ['EBV', 'lnHI', 'nstar']\\\n",
    "            + ['-'.join([s, b]) for s in ['depth', 'seeing', 'skymag', 'exptime', 'mjd'] \\\n",
    "               for b in 'rgz']        \n",
    "    \n",
    "    plt.figure(figsize=(6, 10))\n",
    "    \n",
    "    plt.imshow(abs(fc0w.mean(axis=0)[:, np.newaxis]), \n",
    "               cmap=plt.cm.Blues, extent=(0, 5, -0.5, 17.5), \n",
    "               origin='lower')\n",
    "    \n",
    "    plt.yticks(np.arange(18), labels=ylabels)\n",
    "    \n",
    "    plt.xticks([])\n",
    "    plt.colorbar()    "
   ]
  },
  {
   "cell_type": "code",
   "execution_count": null,
   "metadata": {
    "scrolled": false
   },
   "outputs": [],
   "source": [
    "for f0wi in f0w:\n",
    "    imshow2(f0wi)"
   ]
  },
  {
   "cell_type": "code",
   "execution_count": null,
   "metadata": {},
   "outputs": [],
   "source": []
  },
  {
   "cell_type": "markdown",
   "metadata": {},
   "source": [
    "## correlation "
   ]
  },
  {
   "cell_type": "code",
   "execution_count": null,
   "metadata": {},
   "outputs": [],
   "source": [
    "df = np.load('../input/001/cp2p/cp2p_001.hp.256.5.r.npy', allow_pickle=True).item()"
   ]
  },
  {
   "cell_type": "code",
   "execution_count": null,
   "metadata": {},
   "outputs": [],
   "source": [
    "df.keys()"
   ]
  },
  {
   "cell_type": "code",
   "execution_count": null,
   "metadata": {},
   "outputs": [],
   "source": [
    "dt = np.concatenate([df['test']['fold%d'%i] for i in range(5)])"
   ]
  },
  {
   "cell_type": "code",
   "execution_count": null,
   "metadata": {},
   "outputs": [],
   "source": [
    "dt"
   ]
  },
  {
   "cell_type": "code",
   "execution_count": null,
   "metadata": {},
   "outputs": [],
   "source": [
    "from scipy.stats import pearsonr"
   ]
  },
  {
   "cell_type": "code",
   "execution_count": null,
   "metadata": {},
   "outputs": [],
   "source": [
    "f(x, y) = 0.3 x + 0.7 y  # x and y are correlated, e.g., cov (x, y) ~ 1\n",
    "f(x, y) = 0.7 x + 0.3 y"
   ]
  },
  {
   "cell_type": "code",
   "execution_count": null,
   "metadata": {},
   "outputs": [],
   "source": []
  },
  {
   "cell_type": "code",
   "execution_count": null,
   "metadata": {},
   "outputs": [],
   "source": []
  },
  {
   "cell_type": "code",
   "execution_count": null,
   "metadata": {},
   "outputs": [],
   "source": []
  },
  {
   "cell_type": "code",
   "execution_count": null,
   "metadata": {},
   "outputs": [],
   "source": []
  },
  {
   "cell_type": "code",
   "execution_count": null,
   "metadata": {},
   "outputs": [],
   "source": []
  },
  {
   "cell_type": "code",
   "execution_count": null,
   "metadata": {},
   "outputs": [],
   "source": [
    "fig, ax = plt.sub\n"
   ]
  }
 ],
 "metadata": {
  "kernelspec": {
   "display_name": "python (sysnet)",
   "language": "python",
   "name": "sysnet"
  },
  "language_info": {
   "codemirror_mode": {
    "name": "ipython",
    "version": 3
   },
   "file_extension": ".py",
   "mimetype": "text/x-python",
   "name": "python",
   "nbconvert_exporter": "python",
   "pygments_lexer": "ipython3",
   "version": "3.8.3"
  }
 },
 "nbformat": 4,
 "nbformat_minor": 4
}
